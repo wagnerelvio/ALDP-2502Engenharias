{
  "nbformat": 4,
  "nbformat_minor": 0,
  "metadata": {
    "colab": {
      "provenance": []
    },
    "kernelspec": {
      "name": "python3",
      "display_name": "Python 3"
    },
    "language_info": {
      "name": "python"
    }
  },
  "cells": [
    {
      "cell_type": "markdown",
      "source": [
        "**Listas no Python**\n",
        "Para criar listas no Python é necessário:\n",
        "\n",
        "\n",
        "\n",
        "1.   Utilizar o símbolo [] (colchetes) para as listas;\n",
        "2.   Armazenar a lista em uma VARIÁVEL;\n",
        "3.   Separa itens da lista pela vírgula;\n",
        "\n"
      ],
      "metadata": {
        "id": "VtwdbnTBQZZP"
      }
    },
    {
      "cell_type": "code",
      "source": [
        "frutas = ['Abacaxi','Melancia','Melão','Morango','Murici','Açaí','Acerola','Bacaba','Buriti','Cajá','Caqui','Abacate','Carambola','Figo','Bacuri']"
      ],
      "metadata": {
        "id": "Sy08Ov_eQe5X"
      },
      "execution_count": null,
      "outputs": []
    },
    {
      "cell_type": "code",
      "source": [
        "print(frutas)"
      ],
      "metadata": {
        "colab": {
          "base_uri": "https://localhost:8080/"
        },
        "id": "GuxIWzjmb3lb",
        "outputId": "8d9124a4-80ac-4f8e-d7df-8e0e8df6c62d"
      },
      "execution_count": null,
      "outputs": [
        {
          "output_type": "stream",
          "name": "stdout",
          "text": [
            "['Abacaxi', 'Melancia', 'Melão', 'Murici', 'Açaí', 'Acerola', 'Bacaba', 'Buriti', 'Cajá', 'Caqui', 'Abacate', 'Carambola', 'Figo', 'Bacuri']\n"
          ]
        }
      ]
    },
    {
      "cell_type": "code",
      "source": [
        "frutas = ['Murici','Açaí','Acerola','Buriti','Cajá','Abacate','Figo','Bacuri']"
      ],
      "metadata": {
        "id": "Q9VPTs6uMHkm"
      },
      "execution_count": null,
      "outputs": []
    },
    {
      "cell_type": "code",
      "source": [
        "del frutas[3]"
      ],
      "metadata": {
        "id": "bwf9wvHzM0vj"
      },
      "execution_count": null,
      "outputs": []
    },
    {
      "cell_type": "code",
      "source": [
        "print(\"A nova lista, após a remoção do item acima ficará igual a:\\n \", frutas)"
      ],
      "metadata": {
        "colab": {
          "base_uri": "https://localhost:8080/"
        },
        "outputId": "52464f2a-fe05-405c-95d7-c2e3588198e6",
        "id": "qDn0XF9GNVAm"
      },
      "execution_count": null,
      "outputs": [
        {
          "output_type": "stream",
          "name": "stdout",
          "text": [
            "A nova lista, após a remoção do item acima ficará igual a:\n",
            "  ['Murici', 'Açaí', 'Acerola', 'Buriti', 'Cajá', 'Abacate', 'Figo', 'Bacuri']\n"
          ]
        }
      ]
    },
    {
      "cell_type": "code",
      "source": [
        "print(frutas)"
      ],
      "metadata": {
        "colab": {
          "base_uri": "https://localhost:8080/"
        },
        "id": "T3T32ikLTtst",
        "outputId": "5f11f649-45f4-4c8e-e804-e94ca937e89d"
      },
      "execution_count": null,
      "outputs": [
        {
          "output_type": "stream",
          "name": "stdout",
          "text": [
            "['Murici', 'Açaí', 'Acerola', 'Buriti', 'Cajá', 'Abacate', 'Figo', 'Bacuri']\n"
          ]
        }
      ]
    },
    {
      "cell_type": "markdown",
      "source": [],
      "metadata": {
        "id": "1Tlo8e-2QYoo"
      }
    },
    {
      "cell_type": "markdown",
      "source": [
        "**Cada item da lista possui uma posição. Por padrão, as posições não iniciam do 1  (um) e sim do 0 (ZERO). Nos códigos seguintes temos as formas de acessar uma informação da lista. Para acessarmos um item da lista vamos utilizar a estrutura: nomedalista[posição].**"
      ],
      "metadata": {
        "id": "WNS3lRicT0od"
      }
    },
    {
      "cell_type": "code",
      "source": [
        "print(frutas[2])"
      ],
      "metadata": {
        "colab": {
          "base_uri": "https://localhost:8080/"
        },
        "id": "-AS-60k8T9iq",
        "outputId": "f65fda4e-c1ee-4d56-af29-27df9c93c951"
      },
      "execution_count": null,
      "outputs": [
        {
          "output_type": "stream",
          "name": "stdout",
          "text": [
            "Melão\n"
          ]
        }
      ]
    },
    {
      "cell_type": "code",
      "source": [
        "print(frutas[0])"
      ],
      "metadata": {
        "colab": {
          "base_uri": "https://localhost:8080/"
        },
        "id": "78sG4DjyUGMk",
        "outputId": "c0c6a917-6c76-46d1-f144-11053fdf327b"
      },
      "execution_count": null,
      "outputs": [
        {
          "output_type": "stream",
          "name": "stdout",
          "text": [
            "Abacaxi\n"
          ]
        }
      ]
    },
    {
      "cell_type": "markdown",
      "source": [
        "<h1>1. Métodos do Python para utilizar nas listas</h1>\n",
        "Agora vamos analisar alguns métodos do Python como: append e insert (para  inserir informações na lista); del, pop e remove (para remover itens da lista).\n",
        "\n",
        "<h2>1.1 - Para adicionar um item na lista:</h2>\n",
        "\n",
        "\n",
        "1.   **.append():** adiciona o item ao final da lista.\n",
        "2.   **.insert()** Insere um item na lista na posição indicada.\n",
        "\n",
        "\n",
        "<h2>1.2 - Para deletar um item da lista</h2>\n",
        "\n",
        "\n",
        "\n",
        "1.   **del:** Remove um item da lista baseado na posição indicada;\n",
        "2.   **.remove():** Remove um item baseado no seu valor e não na sua posição;\n",
        "3.   **.pop():** Remove da lista o último item."
      ],
      "metadata": {
        "id": "wyI79fsEURGp"
      }
    },
    {
      "cell_type": "markdown",
      "source": [
        "<h2>1.3 - Exemplo para adicionar um item na lista</h2>"
      ],
      "metadata": {
        "id": "jUbztbWCnG7B"
      }
    },
    {
      "cell_type": "code",
      "source": [
        "frutas = ['Abacaxi','Melancia','Melão','Morango','Murici','Açaí','Acerola','Bacaba','Buriti','Cajá','Caqui','Abacate','Carambola','Figo','Bacuri']"
      ],
      "metadata": {
        "id": "U0bTxAz6c3tU"
      },
      "execution_count": null,
      "outputs": []
    },
    {
      "cell_type": "code",
      "source": [
        "print(frutas)"
      ],
      "metadata": {
        "colab": {
          "base_uri": "https://localhost:8080/"
        },
        "id": "JERKL7U-dB_Q",
        "outputId": "a02014e3-e3af-40eb-d907-05f10a50bec8"
      },
      "execution_count": null,
      "outputs": [
        {
          "output_type": "stream",
          "name": "stdout",
          "text": [
            "['Abacaxi', 'Melancia', 'Melão', 'Morango', 'Murici', 'Açaí', 'Acerola', 'Bacaba', 'Buriti', 'Cajá', 'Caqui', 'Abacate', 'Carambola', 'Figo', 'Bacuri', 'Goiaba']\n"
          ]
        }
      ]
    },
    {
      "cell_type": "code",
      "source": [
        "frutas.append('Goiaba2')"
      ],
      "metadata": {
        "id": "2FFnTs_bUYQn"
      },
      "execution_count": null,
      "outputs": []
    },
    {
      "cell_type": "code",
      "source": [
        "print(frutas)"
      ],
      "metadata": {
        "colab": {
          "base_uri": "https://localhost:8080/"
        },
        "id": "YdKCL2KJV7I2",
        "outputId": "908e5aa8-f45e-46c4-87b7-c4987454731f"
      },
      "execution_count": null,
      "outputs": [
        {
          "output_type": "stream",
          "name": "stdout",
          "text": [
            "['Murici', 'Açaí', 'Acerola', 'Buriti', 'Cajá', 'Abacate', 'Figo', 'Bacuri', 'Goiaba']\n"
          ]
        }
      ]
    },
    {
      "cell_type": "markdown",
      "source": [
        "**Exemplo com o comando append**\n",
        "\n",
        "Exemplos estão nesse [endereço](https://www.hashtagtreinamentos.com/listas-no-python?gclid=Cj0KCQjwn9CgBhDjARIsAD15h0CmnU8q6B72498yR_VsEpADDiXKe9OhZqkMsgM9Ckqt_MI8ld8Bz8gaAgWoEALw_wcB)."
      ],
      "metadata": {
        "id": "fIgnGfp3XNv9"
      }
    },
    {
      "cell_type": "markdown",
      "source": [
        "<h2>1.4 - Exemplo para remover  um item na lista</h2>"
      ],
      "metadata": {
        "id": "1kmfkI-VnwAL"
      }
    },
    {
      "cell_type": "code",
      "source": [
        "print(frutas)"
      ],
      "metadata": {
        "colab": {
          "base_uri": "https://localhost:8080/"
        },
        "id": "UMSMwWCin4Af",
        "outputId": "189e1b6e-7276-43bf-8f8b-89708f6b07c1"
      },
      "execution_count": null,
      "outputs": [
        {
          "output_type": "stream",
          "name": "stdout",
          "text": [
            "['Abacaxi', 'Melancia', 'Melão', 'Morango', 'Murici', 'Açaí', 'Acerola', 'Bacaba', 'Buriti', 'Cajá', 'Caqui', 'Abacate', 'Carambola', 'Figo', 'Bacuri', 'Goiaba']\n"
          ]
        }
      ]
    },
    {
      "cell_type": "code",
      "source": [
        "print(frutas[3])"
      ],
      "metadata": {
        "colab": {
          "base_uri": "https://localhost:8080/"
        },
        "id": "iNbWy5K4n9QS",
        "outputId": "f5dcc879-59e7-47d9-9439-db9db2649514"
      },
      "execution_count": null,
      "outputs": [
        {
          "output_type": "stream",
          "name": "stdout",
          "text": [
            "Morango\n"
          ]
        }
      ]
    },
    {
      "cell_type": "code",
      "source": [
        "del frutas[3]"
      ],
      "metadata": {
        "id": "XUE95CTnoMEo"
      },
      "execution_count": null,
      "outputs": []
    },
    {
      "cell_type": "code",
      "source": [
        "print(frutas)"
      ],
      "metadata": {
        "colab": {
          "base_uri": "https://localhost:8080/"
        },
        "id": "yeaReVafoSOv",
        "outputId": "ce80f75f-2d9d-4d2b-bac4-bd8c2bca8df1"
      },
      "execution_count": null,
      "outputs": [
        {
          "output_type": "stream",
          "name": "stdout",
          "text": [
            "['Abacaxi', 'Melancia', 'Melão', 'Murici', 'Açaí', 'Acerola', 'Bacaba', 'Buriti', 'Cajá', 'Caqui', 'Abacate', 'Carambola', 'Figo', 'Bacuri', 'Goiaba']\n"
          ]
        }
      ]
    },
    {
      "cell_type": "markdown",
      "source": [
        "<h2>1.5 - Remoção do último valor da lista</h2>"
      ],
      "metadata": {
        "id": "WvEN8gglsA4p"
      }
    },
    {
      "cell_type": "code",
      "source": [
        "print(frutas)"
      ],
      "metadata": {
        "colab": {
          "base_uri": "https://localhost:8080/"
        },
        "id": "cKBtflS9sJE7",
        "outputId": "8086f96e-65b4-4c62-8377-bcd375c6c21b"
      },
      "execution_count": null,
      "outputs": [
        {
          "output_type": "stream",
          "name": "stdout",
          "text": [
            "['Abacaxi', 'Melancia', 'Melão', 'Murici', 'Açaí', 'Acerola', 'Bacaba', 'Buriti', 'Cajá', 'Caqui', 'Abacate', 'Carambola', 'Figo', 'Bacuri', 'Goiaba']\n"
          ]
        }
      ]
    },
    {
      "cell_type": "code",
      "source": [
        "frutas.pop()"
      ],
      "metadata": {
        "colab": {
          "base_uri": "https://localhost:8080/",
          "height": 36
        },
        "id": "XvoOVdcGsmBZ",
        "outputId": "0bc1cb81-4158-4e23-8f33-eec21375c2df"
      },
      "execution_count": null,
      "outputs": [
        {
          "output_type": "execute_result",
          "data": {
            "text/plain": [
              "'Goiaba'"
            ],
            "application/vnd.google.colaboratory.intrinsic+json": {
              "type": "string"
            }
          },
          "metadata": {},
          "execution_count": 14
        }
      ]
    },
    {
      "cell_type": "code",
      "source": [
        "print(frutas)"
      ],
      "metadata": {
        "colab": {
          "base_uri": "https://localhost:8080/"
        },
        "id": "TEOhgNRrss4-",
        "outputId": "687d57b5-de3e-42b4-c3d2-22ef8c1322eb"
      },
      "execution_count": null,
      "outputs": [
        {
          "output_type": "stream",
          "name": "stdout",
          "text": [
            "['Abacaxi', 'Melancia', 'Melão', 'Murici', 'Açaí', 'Acerola', 'Bacaba', 'Buriti', 'Cajá', 'Caqui', 'Abacate', 'Carambola', 'Figo', 'Bacuri']\n"
          ]
        }
      ]
    },
    {
      "cell_type": "code",
      "source": [
        "print(\"A nova lista, após a remoção do ultimo elemento é:\\n \", frutas,)"
      ],
      "metadata": {
        "colab": {
          "base_uri": "https://localhost:8080/"
        },
        "id": "xzMDDdiCsyae",
        "outputId": "cac9da54-d6fc-4be7-c90b-16f8ae3412ac"
      },
      "execution_count": null,
      "outputs": [
        {
          "output_type": "stream",
          "name": "stdout",
          "text": [
            "A nova lista, após a remoção do ultimo elemento é:\n",
            "  ['Abacaxi', 'Melancia', 'Melão', 'Murici', 'Açaí', 'Acerola', 'Bacaba', 'Buriti', 'Cajá', 'Caqui', 'Abacate', 'Carambola', 'Figo', 'Bacuri']\n"
          ]
        }
      ]
    },
    {
      "cell_type": "markdown",
      "source": [
        "<h2>1.6 - Ordenando uma lista</h2>\n",
        "\n",
        "```\n",
        "# Isto está formatado como código\n",
        "```\n",
        "\n"
      ],
      "metadata": {
        "id": "OtF1VoG52h6B"
      }
    },
    {
      "cell_type": "code",
      "source": [
        "print(frutas)\n"
      ],
      "metadata": {
        "colab": {
          "base_uri": "https://localhost:8080/"
        },
        "id": "o2S4U6O22rAE",
        "outputId": "ca70ebed-7b19-4e30-959f-a14744c540f4"
      },
      "execution_count": null,
      "outputs": [
        {
          "output_type": "stream",
          "name": "stdout",
          "text": [
            "['Abacate', 'Abacaxi', 'Acerola', 'Açaí', 'Bacaba', 'Bacuri', 'Buriti', 'Cajá', 'Caqui', 'Carambola', 'Figo', 'Goiaba', 'Melancia', 'Melão', 'Morango', 'Murici', 'Goiaba2']\n"
          ]
        }
      ]
    },
    {
      "cell_type": "code",
      "source": [
        "frutas.sort()\n",
        "print(\"A lista ordenada ficará será::\\n \", frutas,)\n"
      ],
      "metadata": {
        "colab": {
          "base_uri": "https://localhost:8080/"
        },
        "id": "lYfHTee_2yJo",
        "outputId": "69216e0e-27ed-4639-88e9-9c5b8acd838d"
      },
      "execution_count": null,
      "outputs": [
        {
          "output_type": "stream",
          "name": "stdout",
          "text": [
            "A lista ordenada ficará será::\n",
            "  ['Abacate', 'Abacaxi', 'Acerola', 'Açaí', 'Bacaba', 'Bacuri', 'Buriti', 'Cajá', 'Caqui', 'Carambola', 'Figo', 'Goiaba', 'Melancia', 'Melão', 'Morango', 'Murici']\n"
          ]
        }
      ]
    },
    {
      "cell_type": "markdown",
      "source": [
        "<h2>1.7 - Obtendo a quantidade de elementos em uma lista</h2>"
      ],
      "metadata": {
        "id": "HTS6BHrW4LGb"
      }
    },
    {
      "cell_type": "code",
      "source": [
        "frutas = ['Abacaxi','Melancia','Melão','Morango','Murici','Açaí','Acerola','Bacaba','Buriti','Cajá','Caqui','Abacate','Carambola','Figo','Bacuri']"
      ],
      "metadata": {
        "id": "EJwXg3mN4X3w"
      },
      "execution_count": null,
      "outputs": []
    },
    {
      "cell_type": "code",
      "source": [
        "len(frutas)"
      ],
      "metadata": {
        "colab": {
          "base_uri": "https://localhost:8080/"
        },
        "id": "RunS7VfP4jiA",
        "outputId": "231b233c-3a17-420b-911a-786cf1feb54f"
      },
      "execution_count": null,
      "outputs": [
        {
          "output_type": "execute_result",
          "data": {
            "text/plain": [
              "17"
            ]
          },
          "metadata": {},
          "execution_count": 33
        }
      ]
    },
    {
      "cell_type": "code",
      "source": [
        "def imprime_lista(lista):\n",
        "    for item in lista:\n",
        "        print(item)\n",
        "\n",
        "# Exemplo de uso:\n",
        "minha_lista = [1, 2, 3, 4, 5]\n",
        "imprime_lista(minha_lista)"
      ],
      "metadata": {
        "id": "LLm4hRBu5XQA"
      },
      "execution_count": null,
      "outputs": []
    },
    {
      "cell_type": "code",
      "source": [
        "#Função imprimir lista de participantes\n",
        "def imprime_lista(lista4):\n",
        "    for item in lista4:\n",
        "        print(item)\n",
        "\n",
        "# Exemplo de uso:\n",
        "#minha_lista = [1, 2, 3, 4, 5]\n",
        "#lista2 = ['Abacaxi','Melancia','Melão','Morango','Murici','Açaí','Acerola','Bacaba','Buriti','Cajá','Caqui','Abacate','Carambola','Figo','Bacuri']\n",
        "\n",
        "\n",
        "\n",
        "lista4 = ['Alysson','Anna Saray','Antonio','Caio','Cirino','Daniel', 'Daniela', 'Eduardo','Elias Silva','Elias Everton','Francisco','Georgev','Geovanne', 'Guilherme', 'Hugo Ferreira','Israel','João', 'Jose Adeilton','Jose Francisco','Keison','Kelvin', 'Layne', 'Leticia','Lissandra','Luis','Manoele','Maria','Maria Eduarda','Mikahellen','Paulo','Raimundo','Rodrigo','Thalyson','Thiago', 'Wagner Elvio']\n",
        "lista4.sort\n",
        "Quantidade_de_alunos = len(lista4)\n",
        "\n",
        "print(\"A Quantidade de alunos nesta lista é igual a:  \", Quantidade_de_alunos)\n",
        "print(\"*******************\")\n",
        "imprime_lista(lista4)"
      ],
      "metadata": {
        "colab": {
          "base_uri": "https://localhost:8080/"
        },
        "id": "BUkOVcka5d2m",
        "outputId": "0113c52f-e45d-421b-ce48-8e2f15d9fce5"
      },
      "execution_count": null,
      "outputs": [
        {
          "output_type": "stream",
          "name": "stdout",
          "text": [
            "A Quantidade de alunos nesta lista é igual a:   35\n",
            "*******************\n",
            "Alysson\n",
            "Anna Saray\n",
            "Antonio\n",
            "Caio\n",
            "Cirino\n",
            "Daniel\n",
            "Daniela\n",
            "Eduardo\n",
            "Elias Silva\n",
            "Elias Everton\n",
            "Francisco\n",
            "Georgev\n",
            "Geovanne\n",
            "Guilherme\n",
            "Hugo Ferreira\n",
            "Israel\n",
            "João\n",
            "Jose Adeilton\n",
            "Jose Francisco\n",
            "Keison\n",
            "Kelvin\n",
            "Layne\n",
            "Leticia\n",
            "Lissandra\n",
            "Luis\n",
            "Manoele\n",
            "Maria\n",
            "Maria Eduarda\n",
            "Mikahellen\n",
            "Paulo\n",
            "Raimundo\n",
            "Rodrigo\n",
            "Thalyson\n",
            "Thiago\n",
            "Wagner Elvio\n"
          ]
        }
      ]
    },
    {
      "cell_type": "code",
      "source": [
        "#Função imprimir lista de participantes\n",
        "def imprime_lista(lista4):\n",
        "    for item in lista4:\n",
        "        print(item)\n",
        "lista4 = ['Alysson','Anna Saray','Antonio','Caio','Cirino','Daniel', 'Daniela', 'Eduardo','Elias Silva','Elias Everton','Francisco','Georgev','Geovanne', 'Guilherme', 'Hugo Ferreira','Israel','João', 'Jose Adeilton','Jose Francisco','Keison','Kelvin', 'Layne', 'Leticia','Lissandra','Luis','Manoele','Maria','Maria Eduarda','Mikahellen','Paulo','Raimundo','Rodrigo','Thalyson','Thiago', 'Wagner Elvio']\n",
        "lista4.sort\n",
        "Quantidade_de_alunos = len(lista4)\n",
        "\n",
        "print(\"A Quantidade de alunos nesta lista é igual a:  \", Quantidade_de_alunos)\n",
        "print(\"*******************\")\n",
        "imprime_lista(lista4)"
      ],
      "metadata": {
        "colab": {
          "base_uri": "https://localhost:8080/"
        },
        "id": "kjZE34gn8vC9",
        "outputId": "339a9025-c40d-49da-f272-c076be19f8a3"
      },
      "execution_count": null,
      "outputs": [
        {
          "output_type": "stream",
          "name": "stdout",
          "text": [
            "A Quantidade de alunos nesta lista é igual a:   35\n",
            "*******************\n",
            "Alysson\n",
            "Anna Saray\n",
            "Antonio\n",
            "Caio\n",
            "Cirino\n",
            "Daniel\n",
            "Daniela\n",
            "Eduardo\n",
            "Elias Silva\n",
            "Elias Everton\n",
            "Francisco\n",
            "Georgev\n",
            "Geovanne\n",
            "Guilherme\n",
            "Hugo Ferreira\n",
            "Israel\n",
            "João\n",
            "Jose Adeilton\n",
            "Jose Francisco\n",
            "Keison\n",
            "Kelvin\n",
            "Layne\n",
            "Leticia\n",
            "Lissandra\n",
            "Luis\n",
            "Manoele\n",
            "Maria\n",
            "Maria Eduarda\n",
            "Mikahellen\n",
            "Paulo\n",
            "Raimundo\n",
            "Rodrigo\n",
            "Thalyson\n",
            "Thiago\n",
            "Wagner Elvio\n"
          ]
        }
      ]
    },
    {
      "cell_type": "code",
      "source": [
        "Quantidade_de_frutas = len(frutas)\n",
        "print(\"A Quantidade de frutas nesta lista é igual a:  \", Quantidade_de_frutas)\n"
      ],
      "metadata": {
        "colab": {
          "base_uri": "https://localhost:8080/"
        },
        "id": "wNhPX7gr4olz",
        "outputId": "cd0dac91-d281-4b2f-b1a7-b793462b1123"
      },
      "execution_count": null,
      "outputs": [
        {
          "output_type": "stream",
          "name": "stdout",
          "text": [
            "A Quantidade de frutas nesta lista é igual a:   15\n"
          ]
        }
      ]
    },
    {
      "cell_type": "code",
      "source": [],
      "metadata": {
        "id": "TJlAr9Id5DAY"
      },
      "execution_count": null,
      "outputs": []
    },
    {
      "cell_type": "markdown",
      "source": [
        "<h1>2 - Como criar uma lista do zero no Python?</h1>\n",
        "\n",
        "Pode-se criar uma lista do zero e trazer itens de outras listas para dentro dele com a utilização do pop que vai pegar essa informação e armazenar em outra variável. Outra opção para criar uma lista é utilizar a função input para que o próprio usuário possa inserir as informações de forma manual através de uma caixa!"
      ],
      "metadata": {
        "id": "qIreBNljtloJ"
      }
    },
    {
      "cell_type": "markdown",
      "source": [],
      "metadata": {
        "id": "Skr2s4Pz5D68"
      }
    },
    {
      "cell_type": "code",
      "source": [
        "tarefas = []"
      ],
      "metadata": {
        "id": "-EIc3DVatrYB"
      },
      "execution_count": null,
      "outputs": []
    },
    {
      "cell_type": "code",
      "source": [
        "atividade = input('Insira uma atividade: ')"
      ],
      "metadata": {
        "colab": {
          "base_uri": "https://localhost:8080/"
        },
        "id": "44wwovEqv8E_",
        "outputId": "1d355550-b080-419c-ba81-90966234907b"
      },
      "execution_count": null,
      "outputs": [
        {
          "name": "stdout",
          "output_type": "stream",
          "text": [
            "Insira uma atividade: estudadr 02\n"
          ]
        }
      ]
    },
    {
      "cell_type": "code",
      "source": [
        "tarefas.append(atividade)"
      ],
      "metadata": {
        "id": "2KiHy8tqwLRE"
      },
      "execution_count": null,
      "outputs": []
    },
    {
      "cell_type": "code",
      "source": [
        "print(tarefas)"
      ],
      "metadata": {
        "colab": {
          "base_uri": "https://localhost:8080/"
        },
        "id": "qfvtN3GXwP8R",
        "outputId": "1cd30594-58dc-414d-f983-b49308964d18"
      },
      "execution_count": null,
      "outputs": [
        {
          "output_type": "stream",
          "name": "stdout",
          "text": [
            "['dormir', 'dormir', 'estudadr 02']\n"
          ]
        }
      ]
    },
    {
      "cell_type": "code",
      "source": [
        "tarefas.clear()"
      ],
      "metadata": {
        "id": "m9QRwBL0x1L0"
      },
      "execution_count": null,
      "outputs": []
    },
    {
      "cell_type": "code",
      "source": [
        "print(tarefas)"
      ],
      "metadata": {
        "colab": {
          "base_uri": "https://localhost:8080/"
        },
        "id": "-z7ft43Fx6Ri",
        "outputId": "fe01e940-d903-4003-caae-e6f5a135ecaf"
      },
      "execution_count": null,
      "outputs": [
        {
          "output_type": "stream",
          "name": "stdout",
          "text": [
            "[]\n"
          ]
        }
      ]
    },
    {
      "cell_type": "markdown",
      "source": [
        "<h2>2.1 - Inserindo vários itens na lista</h2>\n",
        "Outra forma de criar uma lista é utilizando o while +  input, então até que a informação da caixa de entrada seja vazia o programa irá armazenar as informações em uma lista."
      ],
      "metadata": {
        "id": "oAfM6S1kySUC"
      }
    },
    {
      "cell_type": "code",
      "source": [
        "tarefa = []"
      ],
      "metadata": {
        "id": "et6sKXLXzylF"
      },
      "execution_count": null,
      "outputs": []
    },
    {
      "cell_type": "code",
      "source": [
        "while tarefa:\n",
        "  atividades = input('Insira uma tarefa: ')\n",
        "  atividades.append(tarefa)"
      ],
      "metadata": {
        "colab": {
          "base_uri": "https://localhost:8080/",
          "height": 200
        },
        "id": "C7s0-w-xzQW9",
        "outputId": "3717d37d-e726-48b4-d0cc-9a4c18cbbe35"
      },
      "execution_count": null,
      "outputs": [
        {
          "output_type": "error",
          "ename": "NameError",
          "evalue": "ignored",
          "traceback": [
            "\u001b[0;31m---------------------------------------------------------------------------\u001b[0m",
            "\u001b[0;31mNameError\u001b[0m                                 Traceback (most recent call last)",
            "\u001b[0;32m<ipython-input-48-e587d3de0442>\u001b[0m in \u001b[0;36m<module>\u001b[0;34m\u001b[0m\n\u001b[0;32m----> 1\u001b[0;31m \u001b[0;32mwhile\u001b[0m \u001b[0mtarefa\u001b[0m\u001b[0;34m:\u001b[0m\u001b[0;34m\u001b[0m\u001b[0;34m\u001b[0m\u001b[0m\n\u001b[0m\u001b[1;32m      2\u001b[0m   \u001b[0matividades\u001b[0m \u001b[0;34m=\u001b[0m \u001b[0minput\u001b[0m\u001b[0;34m(\u001b[0m\u001b[0;34m'Insira uma tarefa: '\u001b[0m\u001b[0;34m)\u001b[0m\u001b[0;34m\u001b[0m\u001b[0;34m\u001b[0m\u001b[0m\n\u001b[1;32m      3\u001b[0m   \u001b[0matividades\u001b[0m\u001b[0;34m.\u001b[0m\u001b[0mappend\u001b[0m\u001b[0;34m(\u001b[0m\u001b[0mtarefa\u001b[0m\u001b[0;34m)\u001b[0m\u001b[0;34m\u001b[0m\u001b[0;34m\u001b[0m\u001b[0m\n",
            "\u001b[0;31mNameError\u001b[0m: name 'tarefa' is not defined"
          ]
        }
      ]
    },
    {
      "cell_type": "markdown",
      "source": [
        "<h1>3 - Limpar toda a lista</h1>\n",
        "Utiliza-se o comando \"nomedalista\".clear()"
      ],
      "metadata": {
        "id": "cUgK7gxYwzrc"
      }
    },
    {
      "cell_type": "code",
      "source": [
        "cidades = ['São Luis', 'Fortaleza', 'Natal', 'Imperatriz', 'Caxias']"
      ],
      "metadata": {
        "id": "0xKF089hxG_M"
      },
      "execution_count": null,
      "outputs": []
    },
    {
      "cell_type": "code",
      "source": [
        "print(cidades)"
      ],
      "metadata": {
        "colab": {
          "base_uri": "https://localhost:8080/"
        },
        "id": "iBcKbxXBxlPA",
        "outputId": "2929a452-6865-4460-9f53-044c0474c7e2"
      },
      "execution_count": null,
      "outputs": [
        {
          "output_type": "stream",
          "name": "stdout",
          "text": [
            "['São Luis', 'Fortaleza', 'Natal', 'Imperatriz', 'Caxias']\n"
          ]
        }
      ]
    },
    {
      "cell_type": "code",
      "source": [
        "cidades.clear()"
      ],
      "metadata": {
        "id": "-NbBdt3MxouM"
      },
      "execution_count": null,
      "outputs": []
    },
    {
      "cell_type": "code",
      "source": [
        "print(cidades)"
      ],
      "metadata": {
        "colab": {
          "base_uri": "https://localhost:8080/"
        },
        "id": "Iawr3D-jxuAw",
        "outputId": "64eb1a63-32cc-4d72-adf0-4e837ee99eb7"
      },
      "execution_count": null,
      "outputs": [
        {
          "output_type": "stream",
          "name": "stdout",
          "text": [
            "[]\n"
          ]
        }
      ]
    },
    {
      "cell_type": "markdown",
      "source": [
        "**Referencias**\n",
        "\n",
        "2) **Listas em Python: operações básicas**\n",
        " Disponível em:\n",
        "https://www.alura.com.br/artigos/listas-no-python?gclid=Cj0KCQjwn9CgBhDjARIsAD15h0CWStmgYALd5Mq3MC0CzrqbowOXl_LLSzG5Gis5YkufFSQsD6A0BVAaAoe2EALw_wcB. Acesso em 10 de mar. de 2023.\n",
        "\n",
        "\n",
        "2) https://www.alura.com.br/artigos/listas-no-python?gclid=Cj0KCQjwn9CgBhDjARIsAD15h0CWStmgYALd5Mq3MC0CzrqbowOXl_LLSzG5Gis5YkufFSQsD6A0BVAaAoe2EALw_wcB"
      ],
      "metadata": {
        "id": "qksKWTig5ICd"
      }
    }
  ]
}
